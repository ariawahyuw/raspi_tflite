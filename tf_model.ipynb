{
 "cells": [
  {
   "cell_type": "code",
   "execution_count": 1,
   "metadata": {
    "id": "PEDwNflcHaqB"
   },
   "outputs": [],
   "source": [
    "import tensorflow as tf\n",
    "import requests\n",
    "import numpy as np\n",
    "import pandas as pd\n",
    "from tensorflow.keras.models import Sequential\n",
    "from tensorflow.keras.layers import Dense, Normalization\n",
    "\n",
    "\n",
    "np.set_printoptions(precision=3, suppress=True)"
   ]
  },
  {
   "cell_type": "markdown",
   "metadata": {},
   "source": [
    "# Pengambilan Data"
   ]
  },
  {
   "cell_type": "code",
   "execution_count": 2,
   "metadata": {
    "id": "AntiNprpEoeI"
   },
   "outputs": [],
   "source": [
    "api_key = \"...\"\n",
    "\n",
    "url = \"https://api.thingspeak.com/channels/.../feeds.json?api_key=\"+api_key+\"&results=121\"\n",
    "file = requests.get(url=url)\n",
    "dict_file = file.json()\n",
    "dict_file = file.json()\n",
    "data = pd.DataFrame.from_dict(dict_file[\"feeds\"])\n",
    "df = data.drop([\"created_at\", \"entry_id\"], axis = 1)"
   ]
  },
  {
   "cell_type": "markdown",
   "metadata": {},
   "source": [
    "# Pembersihan dan Pemilihan Data Sampel"
   ]
  },
  {
   "cell_type": "code",
   "execution_count": 3,
   "metadata": {
    "id": "EMPDAOJvHnT-"
   },
   "outputs": [],
   "source": [
    "len_data = len(df)\n",
    "df = df.rename(columns={\n",
    "  \"field1\": \"humidity\",\n",
    "  \"field2\":\"temperature\",\n",
    "  \"field3\": \"light_intensity\",\n",
    "  \"field4\": \"soil_moisture\",\n",
    "  \"field5\": \"raindrop\",\n",
    "  \"field6\": \"target\"})\n",
    "df[\"target\"] = df[\"target\"].str[:1]\n",
    "df = df.drop(df.index[[74,111]])\n",
    "\n",
    "cols = df.columns[df.dtypes.eq('object')]\n",
    "df[cols] = df[cols].apply(pd.to_numeric, errors='coerce')\n",
    "train_dataset = df.sample(frac=0.8, random_state=0)\n",
    "test_dataset = df.drop(train_dataset.index)\n"
   ]
  },
  {
   "cell_type": "code",
   "execution_count": 4,
   "metadata": {
    "id": "sivSPdozm0hm"
   },
   "outputs": [],
   "source": [
    "train_input = train_dataset.copy()\n",
    "test_input = test_dataset.copy()\n",
    "\n",
    "train_output = train_input.pop('target')\n",
    "test_output = test_input.pop('target')"
   ]
  },
  {
   "cell_type": "markdown",
   "metadata": {},
   "source": [
    "# Pendefinisian Normalisasi dan Early Stopping"
   ]
  },
  {
   "cell_type": "code",
   "execution_count": 5,
   "metadata": {
    "id": "HLDNCQov6Oqo"
   },
   "outputs": [],
   "source": [
    "normalizer = Normalization(input_dim=5, axis=-1)\n",
    "normalizer.adapt(np.array(train_input))\n",
    "callback = tf.keras.callbacks.EarlyStopping(monitor='val_loss', \n",
    "                                            restore_best_weights=True,\n",
    "                                            mode=\"min\",\n",
    "                                            patience=100,\n",
    "                                            verbose = 0)"
   ]
  },
  {
   "cell_type": "markdown",
   "metadata": {},
   "source": [
    "# Pendefinisian Model _Neural Network_"
   ]
  },
  {
   "cell_type": "code",
   "execution_count": 6,
   "metadata": {
    "id": "kjqRBqfr_l4d"
   },
   "outputs": [],
   "source": [
    "def build_and_compile_model(norm):\n",
    "    model = Sequential([\n",
    "        norm,\n",
    "        Dense(4, input_dim = 5, activation='relu'),\n",
    "        Dense(4, activation='relu'),\n",
    "        Dense(1, activation='sigmoid')\n",
    "    ])\n",
    "    model.compile(loss='binary_crossentropy', \n",
    "                  optimizer = tf.keras.optimizers.Adam(0.001), \n",
    "                  metrics=[\"binary_accuracy\"])\n",
    "    return model"
   ]
  },
  {
   "cell_type": "markdown",
   "metadata": {},
   "source": [
    "# Proses _Training_ atau _Fitting_"
   ]
  },
  {
   "cell_type": "code",
   "execution_count": 7,
   "metadata": {
    "id": "2ocq3b6gAqUQ"
   },
   "outputs": [],
   "source": [
    "model = build_and_compile_model(normalizer)\n",
    "history = model.fit(x=train_input.to_numpy(),\n",
    "                    y=train_output.to_numpy(),\n",
    "                    validation_split=0.27,\n",
    "                    callbacks = [callback],\n",
    "                    epochs=3000,\n",
    "                    verbose = 0)"
   ]
  },
  {
   "cell_type": "markdown",
   "metadata": {},
   "source": [
    "# Hasil _Training_"
   ]
  },
  {
   "cell_type": "code",
   "execution_count": 8,
   "metadata": {
    "id": "xPFMw1-yBoJh"
   },
   "outputs": [],
   "source": [
    "import matplotlib.pyplot as plt"
   ]
  },
  {
   "cell_type": "code",
   "execution_count": 9,
   "metadata": {
    "colab": {
     "base_uri": "https://localhost:8080/",
     "height": 283
    },
    "id": "sVNhckOwNx2y",
    "outputId": "74b41aee-f957-4bf1-c62c-b4613e485b53"
   },
   "outputs": [
    {
     "data": {
      "image/png": "[encoded data removed]",
      "text/plain": [
       "<Figure size 432x288 with 1 Axes>"
      ]
     },
     "metadata": {
      "needs_background": "light"
     },
     "output_type": "display_data"
    }
   ],
   "source": [
    "def plot_loss(history):\n",
    "  plt.plot(history.history['loss'], label='loss')\n",
    "  plt.plot(history.history['val_loss'], label='val_loss')\n",
    "  plt.ylim([-0.5, 1.5])\n",
    "  plt.xlabel('Epoch')\n",
    "  plt.ylabel('Error')\n",
    "  plt.legend()\n",
    "  plt.grid(True)\n",
    "\n",
    "plot_loss(history)"
   ]
  },
  {
   "cell_type": "code",
   "execution_count": 10,
   "metadata": {
    "id": "Di4v_zIMA9dp"
   },
   "outputs": [],
   "source": [
    "test_results = model.evaluate(test_input, test_output, verbose=0)"
   ]
  },
  {
   "cell_type": "code",
   "execution_count": 38,
   "metadata": {},
   "outputs": [
    {
     "name": "stdout",
     "output_type": "stream",
     "text": [
      "Loss: 32.74%\n",
      "Akurasi: 83.33%\n"
     ]
    }
   ],
   "source": [
    "print(f\"Loss: {round(test_results[0]*100,2)}%\")\n",
    "print(f\"Akurasi: {round(test_results[1]*100,2)}%\")"
   ]
  },
  {
   "cell_type": "markdown",
   "metadata": {},
   "source": [
    "# Banyak Data:"
   ]
  },
  {
   "cell_type": "code",
   "execution_count": 30,
   "metadata": {
    "colab": {
     "base_uri": "https://localhost:8080/"
    },
    "id": "qEQxOXF6ghPT",
    "outputId": "dd8a1cf0-b7ce-4023-9bd5-4ee78011faeb",
    "scrolled": true
   },
   "outputs": [
    {
     "name": "stdout",
     "output_type": "stream",
     "text": [
      "Total data: 119\n",
      "Banyak data training: 95\n",
      "Banyak data testing: 24\n"
     ]
    }
   ],
   "source": [
    "print(f\"Total data: {len(df)}\")\n",
    "print(f\"Banyak data training: {len(train_input)}\")\n",
    "print(f\"Banyak data testing: {len(test_input)}\")"
   ]
  },
  {
   "cell_type": "markdown",
   "metadata": {},
   "source": [
    "# Menyimpan Model untuk Prediksi"
   ]
  },
  {
   "cell_type": "code",
   "execution_count": 31,
   "metadata": {},
   "outputs": [],
   "source": [
    "model.save(\"model.h5\")"
   ]
  },
  {
   "cell_type": "code",
   "execution_count": 32,
   "metadata": {
    "collapsed": true,
    "jupyter": {
     "outputs_hidden": true
    }
   },
   "outputs": [
    {
     "name": "stdout",
     "output_type": "stream",
     "text": [
      "INFO:tensorflow:Assets written to: C:\\Users\\ariaw\\AppData\\Local\\Temp\\tmprs32_ope\\assets\n"
     ]
    },
    {
     "name": "stderr",
     "output_type": "stream",
     "text": [
      "INFO:tensorflow:Assets written to: C:\\Users\\ariaw\\AppData\\Local\\Temp\\tmprs32_ope\\assets\n",
      "WARNING:absl:Buffer deduplication procedure will be skipped when flatbuffer library is not properly loaded\n"
     ]
    },
    {
     "data": {
      "text/plain": [
       "2640"
      ]
     },
     "execution_count": 32,
     "metadata": {},
     "output_type": "execute_result"
    }
   ],
   "source": [
    "converter = tf.lite.TFLiteConverter.from_keras_model(model)\n",
    "tflite_model = converter.convert()\n",
    "open(\"converted_model.tflite\", \"wb\").write(tflite_model)"
   ]
  }
 ],
 "metadata": {
  "colab": {
   "collapsed_sections": [],
   "name": "RBL IBJ.ipynb",
   "provenance": []
  },
  "kernelspec": {
   "display_name": "Python 3 (ipykernel)",
   "language": "python",
   "name": "python3"
  },
  "language_info": {
   "codemirror_mode": {
    "name": "ipython",
    "version": 3
   },
   "file_extension": ".py",
   "mimetype": "text/x-python",
   "name": "python",
   "nbconvert_exporter": "python",
   "pygments_lexer": "ipython3",
   "version": "3.8.13"
  }
 },
 "nbformat": 4,
 "nbformat_minor": 4
}
